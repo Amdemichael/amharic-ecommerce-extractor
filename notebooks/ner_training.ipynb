{
 "cells": [
  {
   "cell_type": "code",
   "execution_count": 6,
   "id": "8021cf09",
   "metadata": {},
   "outputs": [],
   "source": [
    "import os\n",
    "import sys\n",
    "\n",
    "# 1. Add scripts directory to path\n",
    "module_path = os.path.abspath(os.path.join('..'))\n",
    "if module_path not in sys.path:\n",
    "    sys.path.append(module_path)"
   ]
  },
  {
   "cell_type": "code",
   "execution_count": 8,
   "id": "fd80d948",
   "metadata": {},
   "outputs": [
    {
     "name": "stdout",
     "output_type": "stream",
     "text": [
      "✅ Import successful!\n"
     ]
    },
    {
     "name": "stderr",
     "output_type": "stream",
     "text": [
      "Processing texts:   0%|          | 0/30 [00:00<?, ?it/s]d:\\Projects\\Python\\amharic-ecommerce-extractor\\.venv\\Lib\\site-packages\\spacy\\training\\iob_utils.py:149: UserWarning: [W030] Some entities could not be aligned in the text \"💥💥...................................💥💥\n",
      "\n",
      "3pcs Bott...\" with entities \"[(41, 60, 'PRODUCT'), (155, 161, 'PRICE'), (197, 2...\". Use `spacy.training.offsets_to_biluo_tags(nlp.make_doc(text), entities)` to check the alignment. Misaligned entities ('-') will be ignored during training.\n",
      "  warnings.warn(\n",
      "d:\\Projects\\Python\\amharic-ecommerce-extractor\\.venv\\Lib\\site-packages\\spacy\\training\\iob_utils.py:149: UserWarning: [W030] Some entities could not be aligned in the text \"💥💥...................................💥💥\n",
      "\n",
      "📌1 pairs ...\" with entities \"[(41, 74, 'PRODUCT'), (84, 90, 'PRICE'), (125, 149...\". Use `spacy.training.offsets_to_biluo_tags(nlp.make_doc(text), entities)` to check the alignment. Misaligned entities ('-') will be ignored during training.\n",
      "  warnings.warn(\n",
      "d:\\Projects\\Python\\amharic-ecommerce-extractor\\.venv\\Lib\\site-packages\\spacy\\training\\iob_utils.py:149: UserWarning: [W030] Some entities could not be aligned in the text \"💥💥...................................💥💥\n",
      "\n",
      "📌Imitatio...\" with entities \"[(42, 70, 'PRODUCT'), (130, 137, 'PRICE'), (171, 1...\". Use `spacy.training.offsets_to_biluo_tags(nlp.make_doc(text), entities)` to check the alignment. Misaligned entities ('-') will be ignored during training.\n",
      "  warnings.warn(\n",
      "d:\\Projects\\Python\\amharic-ecommerce-extractor\\.venv\\Lib\\site-packages\\spacy\\training\\iob_utils.py:149: UserWarning: [W030] Some entities could not be aligned in the text \"💥💥...................................💥💥\n",
      "\n",
      "📌 Baby Ca...\" with entities \"[(43, 55, 'PRODUCT'), (102, 109, 'PRICE'), (143, 1...\". Use `spacy.training.offsets_to_biluo_tags(nlp.make_doc(text), entities)` to check the alignment. Misaligned entities ('-') will be ignored during training.\n",
      "  warnings.warn(\n",
      "d:\\Projects\\Python\\amharic-ecommerce-extractor\\.venv\\Lib\\site-packages\\spacy\\training\\iob_utils.py:149: UserWarning: [W030] Some entities could not be aligned in the text \"💥💥...................................💥💥\n",
      "\n",
      "📌Smart Us...\" with entities \"[(329, 336, 'PRICE'), (370, 394, 'LOC')]\". Use `spacy.training.offsets_to_biluo_tags(nlp.make_doc(text), entities)` to check the alignment. Misaligned entities ('-') will be ignored during training.\n",
      "  warnings.warn(\n",
      "d:\\Projects\\Python\\amharic-ecommerce-extractor\\.venv\\Lib\\site-packages\\spacy\\training\\iob_utils.py:149: UserWarning: [W030] Some entities could not be aligned in the text \"💥💥...................................💥💥\n",
      "\n",
      "📌**Baby H...\" with entities \"[(349, 355, 'PRICE'), (389, 413, 'LOC')]\". Use `spacy.training.offsets_to_biluo_tags(nlp.make_doc(text), entities)` to check the alignment. Misaligned entities ('-') will be ignored during training.\n",
      "  warnings.warn(\n",
      "d:\\Projects\\Python\\amharic-ecommerce-extractor\\.venv\\Lib\\site-packages\\spacy\\training\\iob_utils.py:149: UserWarning: [W030] Some entities could not be aligned in the text \"💥💥...............🌞.................💥💥\n",
      "\n",
      "❓ በረፍት ቀንዎ ...\" with entities \"[(266, 290, 'LOC')]\". Use `spacy.training.offsets_to_biluo_tags(nlp.make_doc(text), entities)` to check the alignment. Misaligned entities ('-') will be ignored during training.\n",
      "  warnings.warn(\n",
      "d:\\Projects\\Python\\amharic-ecommerce-extractor\\.venv\\Lib\\site-packages\\spacy\\training\\iob_utils.py:149: UserWarning: [W030] Some entities could not be aligned in the text \"💥💥...................................💥💥\n",
      "\n",
      "📌 Baby kn...\" with entities \"[(95, 101, 'PRICE'), (135, 159, 'LOC')]\". Use `spacy.training.offsets_to_biluo_tags(nlp.make_doc(text), entities)` to check the alignment. Misaligned entities ('-') will be ignored during training.\n",
      "  warnings.warn(\n",
      "d:\\Projects\\Python\\amharic-ecommerce-extractor\\.venv\\Lib\\site-packages\\spacy\\training\\iob_utils.py:149: UserWarning: [W030] Some entities could not be aligned in the text \"💥💥...................................💥💥\n",
      "\n",
      "📌5-in-1 T...\" with entities \"[(84, 90, 'PRICE'), (124, 148, 'LOC')]\". Use `spacy.training.offsets_to_biluo_tags(nlp.make_doc(text), entities)` to check the alignment. Misaligned entities ('-') will be ignored during training.\n",
      "  warnings.warn(\n",
      "d:\\Projects\\Python\\amharic-ecommerce-extractor\\.venv\\Lib\\site-packages\\spacy\\training\\iob_utils.py:149: UserWarning: [W030] Some entities could not be aligned in the text \"💥💥...................................💥💥\n",
      "\n",
      "📌WaterPro...\" with entities \"[(88, 94, 'PRICE'), (130, 154, 'LOC')]\". Use `spacy.training.offsets_to_biluo_tags(nlp.make_doc(text), entities)` to check the alignment. Misaligned entities ('-') will be ignored during training.\n",
      "  warnings.warn(\n",
      "d:\\Projects\\Python\\amharic-ecommerce-extractor\\.venv\\Lib\\site-packages\\spacy\\training\\iob_utils.py:149: UserWarning: [W030] Some entities could not be aligned in the text \"💥💥...................................💥💥\n",
      "\n",
      "📌 Shock a...\" with entities \"[(256, 262, 'PRICE'), (296, 320, 'LOC')]\". Use `spacy.training.offsets_to_biluo_tags(nlp.make_doc(text), entities)` to check the alignment. Misaligned entities ('-') will be ignored during training.\n",
      "  warnings.warn(\n",
      "d:\\Projects\\Python\\amharic-ecommerce-extractor\\.venv\\Lib\\site-packages\\spacy\\training\\iob_utils.py:149: UserWarning: [W030] Some entities could not be aligned in the text \"💥💥...................................💥💥\n",
      "\n",
      "📌 Magic S...\" with entities \"[(163, 168, 'PRICE'), (204, 228, 'LOC')]\". Use `spacy.training.offsets_to_biluo_tags(nlp.make_doc(text), entities)` to check the alignment. Misaligned entities ('-') will be ignored during training.\n",
      "  warnings.warn(\n",
      "d:\\Projects\\Python\\amharic-ecommerce-extractor\\.venv\\Lib\\site-packages\\spacy\\training\\iob_utils.py:149: UserWarning: [W030] Some entities could not be aligned in the text \"💥💥...................................💥💥\n",
      "\n",
      "📌 13pc Po...\" with entities \"[(352, 359, 'PRICE'), (394, 418, 'LOC')]\". Use `spacy.training.offsets_to_biluo_tags(nlp.make_doc(text), entities)` to check the alignment. Misaligned entities ('-') will be ignored during training.\n",
      "  warnings.warn(\n",
      "d:\\Projects\\Python\\amharic-ecommerce-extractor\\.venv\\Lib\\site-packages\\spacy\\training\\iob_utils.py:149: UserWarning: [W030] Some entities could not be aligned in the text \"💥💥...................................💥💥\n",
      "\n",
      "🎯 **Three...\" with entities \"[(340, 345, 'PRICE'), (381, 405, 'LOC')]\". Use `spacy.training.offsets_to_biluo_tags(nlp.make_doc(text), entities)` to check the alignment. Misaligned entities ('-') will be ignored during training.\n",
      "  warnings.warn(\n",
      "d:\\Projects\\Python\\amharic-ecommerce-extractor\\.venv\\Lib\\site-packages\\spacy\\training\\iob_utils.py:149: UserWarning: [W030] Some entities could not be aligned in the text \"💥👀 አልቋል ለተባላችሁ በድጋሜ ገብቷል 💥💥\n",
      "\n",
      "📌 Only baby 3in1 doub...\" with entities \"[(147, 155, 'PRICE'), (190, 214, 'LOC')]\". Use `spacy.training.offsets_to_biluo_tags(nlp.make_doc(text), entities)` to check the alignment. Misaligned entities ('-') will be ignored during training.\n",
      "  warnings.warn(\n",
      "d:\\Projects\\Python\\amharic-ecommerce-extractor\\.venv\\Lib\\site-packages\\spacy\\training\\iob_utils.py:149: UserWarning: [W030] Some entities could not be aligned in the text \"💥💥...................................💥💥\n",
      "\n",
      "📌 Mini Po...\" with entities \"[(120, 123, 'PRODUCT'), (226, 232, 'PRICE'), (268,...\". Use `spacy.training.offsets_to_biluo_tags(nlp.make_doc(text), entities)` to check the alignment. Misaligned entities ('-') will be ignored during training.\n",
      "  warnings.warn(\n",
      "d:\\Projects\\Python\\amharic-ecommerce-extractor\\.venv\\Lib\\site-packages\\spacy\\training\\iob_utils.py:149: UserWarning: [W030] Some entities could not be aligned in the text \"💥💥...................................💥💥\n",
      "\n",
      "📌Waterpro...\" with entities \"[(198, 203, 'PRICE'), (240, 264, 'LOC')]\". Use `spacy.training.offsets_to_biluo_tags(nlp.make_doc(text), entities)` to check the alignment. Misaligned entities ('-') will be ignored during training.\n",
      "  warnings.warn(\n",
      "d:\\Projects\\Python\\amharic-ecommerce-extractor\\.venv\\Lib\\site-packages\\spacy\\training\\iob_utils.py:149: UserWarning: [W030] Some entities could not be aligned in the text \"💥💥...................................💥💥\n",
      "\n",
      "📌Space tr...\" with entities \"[(91, 96, 'PRICE'), (132, 156, 'LOC')]\". Use `spacy.training.offsets_to_biluo_tags(nlp.make_doc(text), entities)` to check the alignment. Misaligned entities ('-') will be ignored during training.\n",
      "  warnings.warn(\n",
      "Processing texts: 100%|██████████| 30/30 [00:00<00:00, 1230.42it/s]\n",
      "2025-06-21 18:09:04,246 - INFO - Processed 30 messages to ../data/annotated/notebook_output.conll\n"
     ]
    }
   ],
   "source": [
    "try:\n",
    "    from src.amharic_entity_tagger import AmharicEntityTagger\n",
    "    print(\"✅ Import successful!\")\n",
    "    \n",
    "    # 3. Use the class\n",
    "    tagger = AmharicEntityTagger()\n",
    "    tagger.process_to_conll(\n",
    "        input_csv=\"../data/processed/telegram_data_final.csv\",\n",
    "        output_path=\"../data/annotated/notebook_output.conll\"\n",
    "    )\n",
    "    \n",
    "except ImportError as e:\n",
    "    print(f\"Error: {e}\")\n",
    "    print(\"Current Python path:\", sys.path)"
   ]
  },
  {
   "cell_type": "code",
   "execution_count": null,
   "id": "4b7b9ffd",
   "metadata": {},
   "outputs": [],
   "source": []
  }
 ],
 "metadata": {
  "kernelspec": {
   "display_name": ".venv",
   "language": "python",
   "name": "python3"
  },
  "language_info": {
   "codemirror_mode": {
    "name": "ipython",
    "version": 3
   },
   "file_extension": ".py",
   "mimetype": "text/x-python",
   "name": "python",
   "nbconvert_exporter": "python",
   "pygments_lexer": "ipython3",
   "version": "3.13.5"
  }
 },
 "nbformat": 4,
 "nbformat_minor": 5
}
