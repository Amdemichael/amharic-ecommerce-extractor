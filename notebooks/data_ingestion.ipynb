{
 "cells": [
  {
   "cell_type": "markdown",
   "metadata": {},
   "source": [
    "# Task 1: Data Ingestion and Preprocessing\n",
    "\n",
    "This notebook implements Task 1 for the Amharic E-commerce Data Extractor project. It fetches messages from Ethiopian Telegram e-commerce channels, preprocesses the data, and stores it in a structured format.\n",
    "\n",
    "## Objectives\n",
    "- Scrape messages from 5 Telegram channels (@ZemenExpress, @nevacomputer, @aradabrand2, @ethio_brand_collection, @modernshoppingcenter).\n",
    "- Collect text, images, and metadata (message_id, timestamp, views, sender).\n",
    "- Preprocess Amharic text (remove emojis, normalize currency).\n",
    "- Save data to `data/raw/telegram_data.csv` and `data/processed/telegram_data_final.csv`.\n",
    "\n",
    "## Setup\n",
    "- Requires `telethon`, `pandas`, `pyyaml`.\n",
    "- Uses `config.yaml` for Telegram API credentials."
   ]
  },
  {
   "cell_type": "code",
   "execution_count": null,
   "metadata": {},
   "outputs": [],
   "source": [
    "# Install dependencies (for Colab or new environments)\n",
    "!pip install telethon pandas pyyaml"
   ]
  },
  {
   "cell_type": "code",
   "execution_count": null,
   "metadata": {},
   "outputs": [],
   "source": [
    "# Import libraries\n",
    "import yaml\n",
    "import os\n",
    "import pandas as pd\n",
    "import re\n",
    "from telethon.sync import TelegramClient\n",
    "\n",
    "# Load configuration\n",
    "with open('../config.yaml', 'r') as f:\n",
    "    config = yaml.safe_load(f)\n",
    "\n",
    "api_id = config['telegram']['api_id']\n",
    "api_hash = config['telegram']['api_hash']\n",
    "phone = config['telegram']['phone']\n",
    "channels = config['channels']\n",
    "\n",
    "print(f\"Channels: {channels}\")"
   ]
  },
  {
   "cell_type": "markdown",
   "metadata": {},
   "source": [
    "## Data Ingestion\n",
    "\n",
    "Run `src/data_ingestion.py` to scrape messages and save to `data/raw/telegram_data.csv`."
   ]
  },
  {
   "cell_type": "code",
   "execution_count": null,
   "metadata": {},
   "outputs": [],
   "source": [
    "# Run data ingestion script\n",
    "%run ../src/data_ingestion.py\n",
    "\n",
    "# Load and inspect raw data\n",
    "df = pd.read_csv('../data/raw/telegram_data.csv')\n",
    "print(df.info())\n",
    "print(df[['channel', 'text', 'views', 'image_path']].head(5))"
   ]
  },
  {
   "cell_type": "markdown",
   "metadata": {},
   "source": [
    "## Data Preprocessing\n",
    "\n",
    "Run `src/preprocess.py` to preprocess text and save to `data/processed/telegram_data_final.csv`."
   ]
  },
  {
   "cell_type": "code",
   "execution_count": null,
   "metadata": {},
   "outputs": [],
   "source": [
    "# Run preprocessing script\n",
    "%run ../src/preprocess.py\n",
    "\n",
    "# Load and inspect preprocessed data\n",
    "df = pd.read_csv('../data/processed/telegram_data_final.csv')\n",
    "print(df[['text', 'preprocessed_text']].head(5))\n",
    "\n",
    "# Validate data\n",
    "!python ../src/preprocess.py --validate --output ../data/processed/telegram_data_final.csv"
   ]
  },
  {
   "cell_type": "markdown",
   "metadata": {},
   "source": [
    "## Summary\n",
    "\n",
    "- Scraped messages from 5 channels.\n",
    "- Preprocessed Amharic text for NER.\n",
    "- Data saved to `data/processed/telegram_data_final.csv`.\n",
    "- Next: Task 2 (labeling in CoNLL format)."
   ]
  }
 ],
 "metadata": {
  "kernelspec": {
   "display_name": "Python 3",
   "language": "python",
   "name": "python3"
  },
  "language_info": {
   "codemirror_mode": {
    "name": "ipython",
    "version": 3
   },
   "file_extension": ".py",
   "mimetype": "text/x-python",
   "name": "python",
   "nbconvert_exporter": "python",
   "pygments_lexer": "ipython3",
   "version": "3.10.12"
  }
 },
 "nbformat": 4,
 "nbformat_minor": 4
}