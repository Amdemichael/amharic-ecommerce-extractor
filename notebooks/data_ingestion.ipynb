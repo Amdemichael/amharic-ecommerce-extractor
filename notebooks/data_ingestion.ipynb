{
 "cells": [
  {
   "cell_type": "markdown",
   "metadata": {},
   "source": [
    "# Task 1: Data Ingestion and Preprocessing\n",
    "\n",
    "This notebook implements Task 1 for the Amharic E-commerce Data Extractor project. It fetches messages from Ethiopian Telegram e-commerce channels, preprocesses the data, and stores it in a structured format.\n",
    "\n",
    "## Objectives\n",
    "- Scrape messages from 5 Telegram channels (@ZemenExpress, @nevacomputer, @aradabrand2, @ethio_brand_collection, @modernshoppingcenter).\n",
    "- Collect text, images, and metadata (message_id, timestamp, views, sender).\n",
    "- Preprocess Amharic text (remove emojis, normalize currency).\n",
    "- Save data to `data/raw/telegram_data.csv` and `data/processed/telegram_data_final.csv`.\n",
    "\n",
    "## Setup\n",
    "- Requires `telethon`, `pandas`, `pyyaml`.\n",
    "- Uses `config.yaml` for Telegram API credentials."
   ]
  },
  {
   "cell_type": "code",
   "execution_count": 3,
   "metadata": {},
   "outputs": [
    {
     "name": "stdout",
     "output_type": "stream",
     "text": [
      "Requirement already satisfied: telethon in d:\\projects\\python\\amharic-ecommerce-extractor\\.venv\\lib\\site-packages (1.36.0)\n",
      "Requirement already satisfied: pandas in d:\\projects\\python\\amharic-ecommerce-extractor\\.venv\\lib\\site-packages (2.2.2)\n",
      "Requirement already satisfied: pyyaml in d:\\projects\\python\\amharic-ecommerce-extractor\\.venv\\lib\\site-packages (6.0.2)\n",
      "Requirement already satisfied: pyaes in d:\\projects\\python\\amharic-ecommerce-extractor\\.venv\\lib\\site-packages (from telethon) (1.6.1)\n",
      "Requirement already satisfied: rsa in d:\\projects\\python\\amharic-ecommerce-extractor\\.venv\\lib\\site-packages (from telethon) (4.9.1)\n",
      "Requirement already satisfied: numpy>=1.26.0 in d:\\projects\\python\\amharic-ecommerce-extractor\\.venv\\lib\\site-packages (from pandas) (1.26.4)\n",
      "Requirement already satisfied: python-dateutil>=2.8.2 in d:\\projects\\python\\amharic-ecommerce-extractor\\.venv\\lib\\site-packages (from pandas) (2.9.0.post0)\n",
      "Requirement already satisfied: pytz>=2020.1 in d:\\projects\\python\\amharic-ecommerce-extractor\\.venv\\lib\\site-packages (from pandas) (2025.2)\n",
      "Requirement already satisfied: tzdata>=2022.7 in d:\\projects\\python\\amharic-ecommerce-extractor\\.venv\\lib\\site-packages (from pandas) (2025.2)\n",
      "Requirement already satisfied: six>=1.5 in d:\\projects\\python\\amharic-ecommerce-extractor\\.venv\\lib\\site-packages (from python-dateutil>=2.8.2->pandas) (1.17.0)\n",
      "Requirement already satisfied: pyasn1>=0.1.3 in d:\\projects\\python\\amharic-ecommerce-extractor\\.venv\\lib\\site-packages (from rsa->telethon) (0.6.1)\n"
     ]
    }
   ],
   "source": [
    "# Install dependencies (for Colab or new environments)\n",
    "!pip install telethon pandas pyyaml"
   ]
  },
  {
   "cell_type": "code",
   "execution_count": 8,
   "metadata": {},
   "outputs": [
    {
     "name": "stdout",
     "output_type": "stream",
     "text": [
      "Channels: ['@ZemenExpress', '@nevacomputer', '@aradabrand2', '@ethio_brand_collection', '@modernshoppingcenter']\n"
     ]
    }
   ],
   "source": [
    "# Import libraries\n",
    "import yaml\n",
    "import os\n",
    "import pandas as pd\n",
    "import re\n",
    "from telethon.sync import TelegramClient\n",
    "\n",
    "# Load configuration\n",
    "with open('../config.yaml', 'r') as f:\n",
    "    config = yaml.safe_load(f)\n",
    "\n",
    "api_id = config['telegram']['api_id']\n",
    "api_hash = config['telegram']['api_hash']\n",
    "phone = config['telegram']['phone']\n",
    "channels = config['channels']\n",
    "\n",
    "print(f\"Channels: {channels}\")"
   ]
  },
  {
   "cell_type": "markdown",
   "metadata": {},
   "source": [
    "## Data Ingestion\n",
    "\n",
    "Run `src/data_ingestion.py` to scrape messages and save to `data/raw/telegram_data.csv`."
   ]
  },
  {
   "cell_type": "code",
   "execution_count": null,
   "metadata": {},
   "outputs": [
    {
     "name": "stderr",
     "output_type": "stream",
     "text": [
      "2025-06-19 12:58:18,068 - INFO - Connecting to 149.154.167.51:443/TcpFull...\n",
      "2025-06-19 12:58:19,548 - INFO - Connection to 149.154.167.51:443/TcpFull complete!\n"
     ]
    }
   ],
   "source": [
    "# Run data ingestion script\n",
    "%run ../src/data_ingestion.py\n",
    "\n",
    "# Load and inspect raw data\n",
    "df = pd.read_csv('../data/raw/telegram_data.csv')\n",
    "print(df.info())\n",
    "print(df[['channel', 'text', 'views', 'image_path']].head(5))"
   ]
  },
  {
   "cell_type": "markdown",
   "metadata": {},
   "source": [
    "## Data Preprocessing\n",
    "\n",
    "Run `src/preprocess.py` to preprocess text and save to `data/processed/telegram_data_final.csv`."
   ]
  },
  {
   "cell_type": "code",
   "execution_count": null,
   "metadata": {},
   "outputs": [],
   "source": [
    "# Run preprocessing script\n",
    "%run ../src/preprocess.py\n",
    "\n",
    "# Load and inspect preprocessed data\n",
    "df = pd.read_csv('../data/processed/telegram_data_final.csv')\n",
    "print(df[['text', 'preprocessed_text']].head(5))\n",
    "\n",
    "# Validate data\n",
    "!python ../src/preprocess.py --validate --output ../data/processed/telegram_data_final.csv"
   ]
  },
  {
   "cell_type": "markdown",
   "metadata": {},
   "source": [
    "## Summary\n",
    "\n",
    "- Scraped messages from 5 channels.\n",
    "- Preprocessed Amharic text for NER.\n",
    "- Data saved to `data/processed/telegram_data_final.csv`.\n",
    "- Next: Task 2 (labeling in CoNLL format)."
   ]
  }
 ],
 "metadata": {
  "kernelspec": {
   "display_name": ".venv",
   "language": "python",
   "name": "python3"
  },
  "language_info": {
   "codemirror_mode": {
    "name": "ipython",
    "version": 3
   },
   "file_extension": ".py",
   "mimetype": "text/x-python",
   "name": "python",
   "nbconvert_exporter": "python",
   "pygments_lexer": "ipython3",
   "version": "3.13.5"
  }
 },
 "nbformat": 4,
 "nbformat_minor": 4
}
